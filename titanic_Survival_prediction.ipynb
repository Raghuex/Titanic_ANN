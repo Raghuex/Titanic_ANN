{
 "cells": [
  {
   "cell_type": "markdown",
   "id": "363570eb",
   "metadata": {},
   "source": [
    "## Importing Libraries|"
   ]
  },
  {
   "cell_type": "code",
   "execution_count": 1,
   "id": "762a8f7b",
   "metadata": {},
   "outputs": [],
   "source": [
    "import warnings \n",
    "warnings.filterwarnings(\"ignore\")\n",
    "\n",
    "import pandas as pd \n",
    "import numpy as np\n",
    "\n",
    "import matplotlib.pyplot as plt\n",
    "import seaborn as sns\n",
    "%matplotlib inline\n"
   ]
  },
  {
   "cell_type": "code",
   "execution_count": 2,
   "id": "8f1476ad",
   "metadata": {},
   "outputs": [],
   "source": [
    "import random\n",
    "random.seed(101)"
   ]
  },
  {
   "cell_type": "markdown",
   "id": "dde94bef",
   "metadata": {},
   "source": [
    "## Loading Data"
   ]
  },
  {
   "cell_type": "code",
   "execution_count": 3,
   "id": "32238961",
   "metadata": {},
   "outputs": [
    {
     "data": {
      "text/html": [
       "<div>\n",
       "<style scoped>\n",
       "    .dataframe tbody tr th:only-of-type {\n",
       "        vertical-align: middle;\n",
       "    }\n",
       "\n",
       "    .dataframe tbody tr th {\n",
       "        vertical-align: top;\n",
       "    }\n",
       "\n",
       "    .dataframe thead th {\n",
       "        text-align: right;\n",
       "    }\n",
       "</style>\n",
       "<table border=\"1\" class=\"dataframe\">\n",
       "  <thead>\n",
       "    <tr style=\"text-align: right;\">\n",
       "      <th></th>\n",
       "      <th>PassengerId</th>\n",
       "      <th>Survived</th>\n",
       "      <th>Pclass</th>\n",
       "      <th>Name</th>\n",
       "      <th>Sex</th>\n",
       "      <th>Age</th>\n",
       "      <th>SibSp</th>\n",
       "      <th>Parch</th>\n",
       "      <th>Ticket</th>\n",
       "      <th>Fare</th>\n",
       "      <th>Cabin</th>\n",
       "      <th>Embarked</th>\n",
       "    </tr>\n",
       "  </thead>\n",
       "  <tbody>\n",
       "    <tr>\n",
       "      <th>0</th>\n",
       "      <td>1</td>\n",
       "      <td>0</td>\n",
       "      <td>3</td>\n",
       "      <td>Braund, Mr. Owen Harris</td>\n",
       "      <td>male</td>\n",
       "      <td>22.0</td>\n",
       "      <td>1</td>\n",
       "      <td>0</td>\n",
       "      <td>A/5 21171</td>\n",
       "      <td>7.2500</td>\n",
       "      <td>NaN</td>\n",
       "      <td>S</td>\n",
       "    </tr>\n",
       "    <tr>\n",
       "      <th>1</th>\n",
       "      <td>2</td>\n",
       "      <td>1</td>\n",
       "      <td>1</td>\n",
       "      <td>Cumings, Mrs. John Bradley (Florence Briggs Th...</td>\n",
       "      <td>female</td>\n",
       "      <td>38.0</td>\n",
       "      <td>1</td>\n",
       "      <td>0</td>\n",
       "      <td>PC 17599</td>\n",
       "      <td>71.2833</td>\n",
       "      <td>C85</td>\n",
       "      <td>C</td>\n",
       "    </tr>\n",
       "    <tr>\n",
       "      <th>2</th>\n",
       "      <td>3</td>\n",
       "      <td>1</td>\n",
       "      <td>3</td>\n",
       "      <td>Heikkinen, Miss. Laina</td>\n",
       "      <td>female</td>\n",
       "      <td>26.0</td>\n",
       "      <td>0</td>\n",
       "      <td>0</td>\n",
       "      <td>STON/O2. 3101282</td>\n",
       "      <td>7.9250</td>\n",
       "      <td>NaN</td>\n",
       "      <td>S</td>\n",
       "    </tr>\n",
       "    <tr>\n",
       "      <th>3</th>\n",
       "      <td>4</td>\n",
       "      <td>1</td>\n",
       "      <td>1</td>\n",
       "      <td>Futrelle, Mrs. Jacques Heath (Lily May Peel)</td>\n",
       "      <td>female</td>\n",
       "      <td>35.0</td>\n",
       "      <td>1</td>\n",
       "      <td>0</td>\n",
       "      <td>113803</td>\n",
       "      <td>53.1000</td>\n",
       "      <td>C123</td>\n",
       "      <td>S</td>\n",
       "    </tr>\n",
       "    <tr>\n",
       "      <th>4</th>\n",
       "      <td>5</td>\n",
       "      <td>0</td>\n",
       "      <td>3</td>\n",
       "      <td>Allen, Mr. William Henry</td>\n",
       "      <td>male</td>\n",
       "      <td>35.0</td>\n",
       "      <td>0</td>\n",
       "      <td>0</td>\n",
       "      <td>373450</td>\n",
       "      <td>8.0500</td>\n",
       "      <td>NaN</td>\n",
       "      <td>S</td>\n",
       "    </tr>\n",
       "    <tr>\n",
       "      <th>5</th>\n",
       "      <td>6</td>\n",
       "      <td>0</td>\n",
       "      <td>3</td>\n",
       "      <td>Moran, Mr. James</td>\n",
       "      <td>male</td>\n",
       "      <td>NaN</td>\n",
       "      <td>0</td>\n",
       "      <td>0</td>\n",
       "      <td>330877</td>\n",
       "      <td>8.4583</td>\n",
       "      <td>NaN</td>\n",
       "      <td>Q</td>\n",
       "    </tr>\n",
       "    <tr>\n",
       "      <th>6</th>\n",
       "      <td>7</td>\n",
       "      <td>0</td>\n",
       "      <td>1</td>\n",
       "      <td>McCarthy, Mr. Timothy J</td>\n",
       "      <td>male</td>\n",
       "      <td>54.0</td>\n",
       "      <td>0</td>\n",
       "      <td>0</td>\n",
       "      <td>17463</td>\n",
       "      <td>51.8625</td>\n",
       "      <td>E46</td>\n",
       "      <td>S</td>\n",
       "    </tr>\n",
       "    <tr>\n",
       "      <th>7</th>\n",
       "      <td>8</td>\n",
       "      <td>0</td>\n",
       "      <td>3</td>\n",
       "      <td>Palsson, Master. Gosta Leonard</td>\n",
       "      <td>male</td>\n",
       "      <td>2.0</td>\n",
       "      <td>3</td>\n",
       "      <td>1</td>\n",
       "      <td>349909</td>\n",
       "      <td>21.0750</td>\n",
       "      <td>NaN</td>\n",
       "      <td>S</td>\n",
       "    </tr>\n",
       "    <tr>\n",
       "      <th>8</th>\n",
       "      <td>9</td>\n",
       "      <td>1</td>\n",
       "      <td>3</td>\n",
       "      <td>Johnson, Mrs. Oscar W (Elisabeth Vilhelmina Berg)</td>\n",
       "      <td>female</td>\n",
       "      <td>27.0</td>\n",
       "      <td>0</td>\n",
       "      <td>2</td>\n",
       "      <td>347742</td>\n",
       "      <td>11.1333</td>\n",
       "      <td>NaN</td>\n",
       "      <td>S</td>\n",
       "    </tr>\n",
       "    <tr>\n",
       "      <th>9</th>\n",
       "      <td>10</td>\n",
       "      <td>1</td>\n",
       "      <td>2</td>\n",
       "      <td>Nasser, Mrs. Nicholas (Adele Achem)</td>\n",
       "      <td>female</td>\n",
       "      <td>14.0</td>\n",
       "      <td>1</td>\n",
       "      <td>0</td>\n",
       "      <td>237736</td>\n",
       "      <td>30.0708</td>\n",
       "      <td>NaN</td>\n",
       "      <td>C</td>\n",
       "    </tr>\n",
       "  </tbody>\n",
       "</table>\n",
       "</div>"
      ],
      "text/plain": [
       "   PassengerId  Survived  Pclass  \\\n",
       "0            1         0       3   \n",
       "1            2         1       1   \n",
       "2            3         1       3   \n",
       "3            4         1       1   \n",
       "4            5         0       3   \n",
       "5            6         0       3   \n",
       "6            7         0       1   \n",
       "7            8         0       3   \n",
       "8            9         1       3   \n",
       "9           10         1       2   \n",
       "\n",
       "                                                Name     Sex   Age  SibSp  \\\n",
       "0                            Braund, Mr. Owen Harris    male  22.0      1   \n",
       "1  Cumings, Mrs. John Bradley (Florence Briggs Th...  female  38.0      1   \n",
       "2                             Heikkinen, Miss. Laina  female  26.0      0   \n",
       "3       Futrelle, Mrs. Jacques Heath (Lily May Peel)  female  35.0      1   \n",
       "4                           Allen, Mr. William Henry    male  35.0      0   \n",
       "5                                   Moran, Mr. James    male   NaN      0   \n",
       "6                            McCarthy, Mr. Timothy J    male  54.0      0   \n",
       "7                     Palsson, Master. Gosta Leonard    male   2.0      3   \n",
       "8  Johnson, Mrs. Oscar W (Elisabeth Vilhelmina Berg)  female  27.0      0   \n",
       "9                Nasser, Mrs. Nicholas (Adele Achem)  female  14.0      1   \n",
       "\n",
       "   Parch            Ticket     Fare Cabin Embarked  \n",
       "0      0         A/5 21171   7.2500   NaN        S  \n",
       "1      0          PC 17599  71.2833   C85        C  \n",
       "2      0  STON/O2. 3101282   7.9250   NaN        S  \n",
       "3      0            113803  53.1000  C123        S  \n",
       "4      0            373450   8.0500   NaN        S  \n",
       "5      0            330877   8.4583   NaN        Q  \n",
       "6      0             17463  51.8625   E46        S  \n",
       "7      1            349909  21.0750   NaN        S  \n",
       "8      2            347742  11.1333   NaN        S  \n",
       "9      0            237736  30.0708   NaN        C  "
      ]
     },
     "execution_count": 3,
     "metadata": {},
     "output_type": "execute_result"
    }
   ],
   "source": [
    "data = pd.read_csv('titanic_data.csv')\n",
    "data.head(10)"
   ]
  },
  {
   "cell_type": "code",
   "execution_count": 4,
   "id": "01116e65",
   "metadata": {},
   "outputs": [
    {
     "name": "stdout",
     "output_type": "stream",
     "text": [
      "<class 'pandas.core.frame.DataFrame'>\n",
      "RangeIndex: 891 entries, 0 to 890\n",
      "Data columns (total 12 columns):\n",
      " #   Column       Non-Null Count  Dtype  \n",
      "---  ------       --------------  -----  \n",
      " 0   PassengerId  891 non-null    int64  \n",
      " 1   Survived     891 non-null    int64  \n",
      " 2   Pclass       891 non-null    int64  \n",
      " 3   Name         891 non-null    object \n",
      " 4   Sex          891 non-null    object \n",
      " 5   Age          714 non-null    float64\n",
      " 6   SibSp        891 non-null    int64  \n",
      " 7   Parch        891 non-null    int64  \n",
      " 8   Ticket       891 non-null    object \n",
      " 9   Fare         891 non-null    float64\n",
      " 10  Cabin        204 non-null    object \n",
      " 11  Embarked     889 non-null    object \n",
      "dtypes: float64(2), int64(5), object(5)\n",
      "memory usage: 83.7+ KB\n"
     ]
    }
   ],
   "source": [
    "data.info()"
   ]
  },
  {
   "cell_type": "code",
   "execution_count": 5,
   "id": "96c17115",
   "metadata": {},
   "outputs": [],
   "source": [
    "dict_live = {\n",
    "0: \"Died\",\n",
    "1:\"Survived\"\n",
    "}\n",
    "\n",
    "dict_sex={\n",
    "    'male':0,\n",
    "    'female' :1\n",
    "} \n",
    "\n",
    "data['Bsex'] = data['Sex'].apply(lambda x: dict_sex[x])\n",
    "\n",
    "# features\n",
    "features = data[ ['Pclass', 'Bsex']]"
   ]
  },
  {
   "cell_type": "code",
   "execution_count": 6,
   "id": "40835486",
   "metadata": {},
   "outputs": [
    {
     "data": {
      "text/html": [
       "<div>\n",
       "<style scoped>\n",
       "    .dataframe tbody tr th:only-of-type {\n",
       "        vertical-align: middle;\n",
       "    }\n",
       "\n",
       "    .dataframe tbody tr th {\n",
       "        vertical-align: top;\n",
       "    }\n",
       "\n",
       "    .dataframe thead th {\n",
       "        text-align: right;\n",
       "    }\n",
       "</style>\n",
       "<table border=\"1\" class=\"dataframe\">\n",
       "  <thead>\n",
       "    <tr style=\"text-align: right;\">\n",
       "      <th></th>\n",
       "      <th>Pclass</th>\n",
       "      <th>Bsex</th>\n",
       "    </tr>\n",
       "  </thead>\n",
       "  <tbody>\n",
       "    <tr>\n",
       "      <th>0</th>\n",
       "      <td>3</td>\n",
       "      <td>0</td>\n",
       "    </tr>\n",
       "    <tr>\n",
       "      <th>1</th>\n",
       "      <td>1</td>\n",
       "      <td>1</td>\n",
       "    </tr>\n",
       "    <tr>\n",
       "      <th>2</th>\n",
       "      <td>3</td>\n",
       "      <td>1</td>\n",
       "    </tr>\n",
       "    <tr>\n",
       "      <th>3</th>\n",
       "      <td>1</td>\n",
       "      <td>1</td>\n",
       "    </tr>\n",
       "    <tr>\n",
       "      <th>4</th>\n",
       "      <td>3</td>\n",
       "      <td>0</td>\n",
       "    </tr>\n",
       "    <tr>\n",
       "      <th>...</th>\n",
       "      <td>...</td>\n",
       "      <td>...</td>\n",
       "    </tr>\n",
       "    <tr>\n",
       "      <th>886</th>\n",
       "      <td>2</td>\n",
       "      <td>0</td>\n",
       "    </tr>\n",
       "    <tr>\n",
       "      <th>887</th>\n",
       "      <td>1</td>\n",
       "      <td>1</td>\n",
       "    </tr>\n",
       "    <tr>\n",
       "      <th>888</th>\n",
       "      <td>3</td>\n",
       "      <td>1</td>\n",
       "    </tr>\n",
       "    <tr>\n",
       "      <th>889</th>\n",
       "      <td>1</td>\n",
       "      <td>0</td>\n",
       "    </tr>\n",
       "    <tr>\n",
       "      <th>890</th>\n",
       "      <td>3</td>\n",
       "      <td>0</td>\n",
       "    </tr>\n",
       "  </tbody>\n",
       "</table>\n",
       "<p>891 rows × 2 columns</p>\n",
       "</div>"
      ],
      "text/plain": [
       "     Pclass  Bsex\n",
       "0         3     0\n",
       "1         1     1\n",
       "2         3     1\n",
       "3         1     1\n",
       "4         3     0\n",
       "..      ...   ...\n",
       "886       2     0\n",
       "887       1     1\n",
       "888       3     1\n",
       "889       1     0\n",
       "890       3     0\n",
       "\n",
       "[891 rows x 2 columns]"
      ]
     },
     "execution_count": 6,
     "metadata": {},
     "output_type": "execute_result"
    }
   ],
   "source": [
    "features"
   ]
  },
  {
   "cell_type": "code",
   "execution_count": 7,
   "id": "636f6f2d",
   "metadata": {},
   "outputs": [],
   "source": [
    "# conerting features to numpy array for MultiLayerPerceptron\n",
    "features = data[ ['Pclass', 'Bsex']].to_numpy()\n",
    "labels = data['Survived'].to_numpy()"
   ]
  },
  {
   "cell_type": "markdown",
   "id": "e7581f5f",
   "metadata": {},
   "source": [
    "## Splitting the data"
   ]
  },
  {
   "cell_type": "code",
   "execution_count": 8,
   "id": "491ebfe7",
   "metadata": {},
   "outputs": [],
   "source": [
    "from sklearn.model_selection import train_test_split\n",
    "xtrain, xtest, ytrain, ytest = train_test_split(features, labels, test_size = 0.2, random_state =0)"
   ]
  },
  {
   "cell_type": "markdown",
   "id": "3b5b25ca",
   "metadata": {},
   "source": [
    "## Multi-Layer Perceptron"
   ]
  },
  {
   "cell_type": "markdown",
   "id": "8bea415a",
   "metadata": {},
   "source": [
    "**Activation Function and Derivation**"
   ]
  },
  {
   "cell_type": "markdown",
   "id": "6e9d14f5",
   "metadata": {},
   "source": [
    "import numpy as np\n",
    "import matplotlib.pyplot as plt\n",
    "\n",
    "def sigmoid(x, derivative=False):\n",
    "    if derivative:\n",
    "        # f = sigmoid(x) * (1 - sigmoid(x))\n",
    "        f = 1/(1+np.exp(-x))*(1-1/(1+np.exp(-x)))\n",
    "    else:\n",
    "        f = 1 / (1 + np.exp(-x))\n",
    "    return f\n",
    "\n",
    "def ReLU(x, derivative=False):\n",
    "    if derivative:\n",
    "        f = np.heaviside(x, 1)\n",
    "    else:\n",
    "        f = np.maximum(x, 0)\n",
    "    return f\n",
    "\n",
    "def train_ANN(xtrain, ytrain, h1_units=4, h2_units=4, learning_rate=0.0015):\n",
    "    np.random.seed(101)\n",
    "    \n",
    "    # Hidden layer 1\n",
    "    w1 = 2 * np.random.rand(h1_units, xtrain.shape[1])\n",
    "    b1 = np.random.rand(h1_units)\n",
    "    \n",
    "    # Hidden layer 2\n",
    "    w2 = 2 * np.random.rand(h2_units, h1_units)\n",
    "    b2 = np.random.rand(h2_units)\n",
    "    \n",
    "    # Output layer (assuming one output unit)\n",
    "    w_out = 2 * np.random.rand(1, h2_units)\n",
    "    b_out = np.random.rand(1)\n",
    "    \n",
    "    loss = []\n",
    "    vec_y = []  # Initialize vec_y\n",
    "    \n",
    "    for i in range(xtrain.shape[0]):\n",
    "        x_data = xtrain[i]\n",
    "        \n",
    "        # Feed Forward\n",
    "        h1 = ReLU(np.dot(w1, x_data) + b1)  # Hidden layer 1 output\n",
    "        h2 = ReLU(np.dot(w2, h1) + b2)  # Hidden layer 2 output\n",
    "        y = sigmoid(np.dot(w_out, h2) + b_out)  # Output of the output layer\n",
    "        \n",
    "        # Backpropagate - calculate the layer derivatives\n",
    "        delta_out = (y - ytrain[i]) * sigmoid(y, derivative=True)\n",
    "        delta_2 = np.dot(delta_out, w_out) * ReLU(h2, derivative=True)\n",
    "        delta_1 = np.dot(delta_2, w2) * ReLU(h1, derivative=True)\n",
    "        \n",
    "        # Gradient descent\n",
    "        w_out -= learning_rate * delta_out * h2  # Output layer\n",
    "        b_out -= learning_rate * delta_out\n",
    "        \n",
    "        # Hidden layer 2\n",
    "        w2 -= learning_rate * np.outer(delta_2, h1)\n",
    "        b2 -= learning_rate * delta_2\n",
    "        \n",
    "        # Hidden layer 1\n",
    "        w1 -= learning_rate * np.outer(delta_1, x_data)\n",
    "        b1 -= learning_rate * delta_1\n",
    "        \n",
    "        # Cost\n",
    "        loss.append((1/2) * np.sum((y - ytrain[i])**2))\n",
    "        vec_y.append(y[0])\n",
    "    \n",
    "    # Compute batch loss\n",
    "    batch_loss = []\n",
    "    for i in range(10):\n",
    "        loss_avg = 0\n",
    "        for m in range(60):\n",
    "            loss_avg += vec_y[60*i + m] / 60\n",
    "        batch_loss.append(loss_avg)\n",
    "    \n",
    "    plt.figure(figsize=(10, 6))\n",
    "    plt.plot(np.arange(1, len(batch_loss) + 1), batch_loss)\n",
    "    plt.xlabel('Epoch', fontsize=16)\n",
    "    plt.ylabel('Loss', fontsize=16)\n",
    "    plt.show()\n",
    "    \n",
    "    return w1, b1, w2, b2, w_out, b_out, loss\n"
   ]
  },
  {
   "cell_type": "code",
   "execution_count": 21,
   "id": "ff024ffb",
   "metadata": {},
   "outputs": [],
   "source": [
    "import numpy as np\n",
    "import matplotlib.pyplot as plt\n",
    "from sklearn.preprocessing import StandardScaler\n",
    "from sklearn.model_selection import KFold\n",
    "\n",
    "def sigmoid(x, derivative=False):\n",
    "    f = 1 / (1 + np.exp(-x))\n",
    "    if derivative:\n",
    "        return f * (1 - f)\n",
    "    return f\n",
    "\n",
    "def ReLU(x, derivative=False):\n",
    "    if derivative:\n",
    "        return np.where(x > 0, 1, 0)\n",
    "    return np.maximum(x, 0)\n",
    "\n",
    "def binary_crossentropy(y_true, y_pred):\n",
    "    epsilon = 1e-15  # Small constant to prevent log(0)\n",
    "    y_pred = np.clip(y_pred, epsilon, 1 - epsilon)\n",
    "    return -np.mean(y_true * np.log(y_pred) + (1 - y_true) * np.log(1 - y_pred))\n",
    "\n",
    "def train_ANN(xtrain, ytrain, h1_units=4, h2_units=4, learning_rate=0.001, epochs=1000, batch_size=32, dropout_rate=0.5):\n",
    "    np.random.seed(101)\n",
    "    \n",
    "    # Normalize data\n",
    "    scaler = StandardScaler()\n",
    "    xtrain = scaler.fit_transform(xtrain)\n",
    "    \n",
    "    # Initialize weights and biases\n",
    "    w1 = 2 * np.random.rand(xtrain.shape[1], h1_units) - 1\n",
    "    b1 = np.random.rand(h1_units) - 0.5\n",
    "    w2 = 2 * np.random.rand(h1_units, h2_units) - 1\n",
    "    b2 = np.random.rand(h2_units) - 0.5\n",
    "    w_out = 2 * np.random.rand(h2_units, 1) - 1\n",
    "    b_out = np.random.rand(1) - 0.5\n",
    "    \n",
    "    loss = []\n",
    "    \n",
    "    for epoch in range(epochs):\n",
    "        batch_loss = 0\n",
    "        for start in range(0, xtrain.shape[0], batch_size):\n",
    "            end = min(start + batch_size, xtrain.shape[0])\n",
    "            x_batch = xtrain[start:end]\n",
    "            y_batch = ytrain[start:end]\n",
    "            \n",
    "            # Feed Forward\n",
    "            h1 = ReLU(np.dot(x_batch, w1) + b1)\n",
    "            h1_dropout = np.where(np.random.rand(*h1.shape) < dropout_rate, 0, h1) / (1 - dropout_rate)  # Apply dropout\n",
    "            h2 = ReLU(np.dot(h1_dropout, w2) + b2)\n",
    "            h2_dropout = np.where(np.random.rand(*h2.shape) < dropout_rate, 0, h2) / (1 - dropout_rate)  # Apply dropout\n",
    "            y_pred = sigmoid(np.dot(h2_dropout, w_out) + b_out)\n",
    "            \n",
    "            # Calculate Loss\n",
    "            batch_loss += binary_crossentropy(y_batch.reshape(-1, 1), y_pred)\n",
    "            \n",
    "            # Backpropagation\n",
    "            error = y_pred - y_batch.reshape(-1, 1)\n",
    "            delta_out = error * sigmoid(np.dot(h2_dropout, w_out) + b_out, derivative=True)\n",
    "            delta_2 = np.dot(delta_out, w_out.T) * ReLU(np.dot(h1_dropout, w2) + b2, derivative=True)\n",
    "            delta_1 = np.dot(delta_2, w2.T) * ReLU(np.dot(x_batch, w1) + b1, derivative=True)\n",
    "            \n",
    "            # Gradient Descent\n",
    "            w_out -= learning_rate * np.dot(h2_dropout.T, delta_out)\n",
    "            b_out -= learning_rate * np.sum(delta_out, axis=0)\n",
    "            w2 -= learning_rate * np.dot(h1_dropout.T, delta_2)\n",
    "            b2 -= learning_rate * np.sum(delta_2, axis=0)\n",
    "            w1 -= learning_rate * np.dot(x_batch.T, delta_1)\n",
    "            b1 -= learning_rate * np.sum(delta_1, axis=0)\n",
    "        \n",
    "        # Average loss for the epoch\n",
    "        loss.append(batch_loss / (xtrain.shape[0] / batch_size))\n",
    "        \n",
    "        if epoch % 100 == 0:\n",
    "            print(f'Epoch {epoch}, Loss: {batch_loss / (xtrain.shape[0] / batch_size)}')\n",
    "    \n",
    "    plt.figure(figsize=(10, 6))\n",
    "    plt.plot(np.arange(1, len(loss) + 1), loss)\n",
    "    plt.xlabel('Epoch', fontsize=16)\n",
    "    plt.ylabel('Loss', fontsize=16)\n",
    "    plt.show()\n",
    "    \n",
    "    return w1, b1, w2, b2, w_out, b_out, loss\n",
    "\n",
    "def ANN_pred(xtest, w1, b1, w2, b2, w_out, b_out, dropout_rate=0.5):\n",
    "    scaler = StandardScaler()\n",
    "    xtest = scaler.fit_transform(xtest)\n",
    "    \n",
    "    pred = []\n",
    "    for i in range(xtest.shape[0]):\n",
    "        x = xtest[i]\n",
    "        \n",
    "        # Feed Forward\n",
    "        h1 = ReLU(np.dot(x, w1) + b1)\n",
    "        h1_dropout = np.where(np.random.rand(*h1.shape) < dropout_rate, 0, h1) / (1 - dropout_rate)\n",
    "        h2 = ReLU(np.dot(h1_dropout, w2) + b2)\n",
    "        h2_dropout = np.where(np.random.rand(*h2.shape) < dropout_rate, 0, h2) / (1 - dropout_rate)\n",
    "        y = sigmoid(np.dot(h2_dropout, w_out) + b_out)\n",
    "        \n",
    "        # Use threshold of 0.5 for binary classification\n",
    "        pred.append(1 if y >= 0.5 else 0)\n",
    "    \n",
    "    return np.array(pred)\n",
    "\n",
    "def cross_validate(x, y, n_splits=5, **kwargs):\n",
    "    kf = KFold(n_splits=n_splits, shuffle=True, random_state=42)\n",
    "    \n",
    "    accuracies = []\n",
    "    fold = 1\n",
    "    \n",
    "    for train_index, val_index in kf.split(x):\n",
    "        print(f'Fold {fold}')\n",
    "        X_train, X_val = x[train_index], x[val_index]\n",
    "        Y_train, Y_val = y[train_index], y[val_index]\n",
    "        \n",
    "        w1, b1, w2, b2, w_out, b_out, loss = train_ANN(X_train, Y_train, **kwargs)\n",
    "        \n",
    "        # Predict on validation set\n",
    "        y_pred = ANN_pred(X_val, w1, b1, w2, b2, w_out, b_out)\n",
    "        \n",
    "        # Calculate accuracy\n",
    "        accuracy = np.mean(y_pred == Y_val)\n",
    "        accuracies.append(accuracy)\n",
    "        \n",
    "        print(f'Validation Accuracy: {accuracy * 100:.2f}%')\n",
    "        fold += 1\n",
    "    \n",
    "    print(f'\\nAverage Accuracy: {np.mean(accuracies) * 100:.2f}%')\n",
    "    return np.mean(accuracies)\n",
    "\n",
    "# Example usage\n",
    "# Assuming xtrain and ytrain are your features and labels\n",
    "# average_accuracy = cross_validate(xtrain, ytrain, h1_units=8, h2_units=8, learning_rate=0.001, epochs=1000, batch_size=32, dropout_rate=0.5)\n"
   ]
  },
  {
   "cell_type": "code",
   "execution_count": 10,
   "id": "c2f88dda",
   "metadata": {},
   "outputs": [
    {
     "data": {
      "text/plain": [
       "(712, 2)"
      ]
     },
     "execution_count": 10,
     "metadata": {},
     "output_type": "execute_result"
    }
   ],
   "source": [
    "xtrain.shape"
   ]
  },
  {
   "cell_type": "code",
   "execution_count": null,
   "id": "5b49624f",
   "metadata": {},
   "outputs": [],
   "source": []
  },
  {
   "cell_type": "markdown",
   "id": "8c2f6522",
   "metadata": {},
   "source": [
    "**Training Model**"
   ]
  },
  {
   "cell_type": "code",
   "execution_count": 11,
   "id": "3db3e0aa",
   "metadata": {},
   "outputs": [
    {
     "name": "stdout",
     "output_type": "stream",
     "text": [
      "Epoch 0, Loss: 0.8447136487285996\n",
      "Epoch 100, Loss: 0.4968080538877179\n",
      "Epoch 200, Loss: 0.47747121902109363\n",
      "Epoch 300, Loss: 0.4747438484078869\n",
      "Epoch 400, Loss: 0.4742346189784308\n",
      "Epoch 500, Loss: 0.47401141578432243\n",
      "Epoch 600, Loss: 0.4739506275741606\n",
      "Epoch 700, Loss: 0.47388189008295123\n",
      "Epoch 800, Loss: 0.4738590764122132\n",
      "Epoch 900, Loss: 0.4738638587598554\n"
     ]
    },
    {
     "data": {
      "image/png": "[encoded data removed]",
      "text/plain": [
       "<Figure size 1000x600 with 1 Axes>"
      ]
     },
     "metadata": {},
     "output_type": "display_data"
    }
   ],
   "source": [
    "w1, b1, w2, b2, w_out, b_out, loss = train_ANN(xtrain, ytrain)"
   ]
  },
  {
   "cell_type": "markdown",
   "id": "e815b43e",
   "metadata": {},
   "source": [
    "## Testing Module "
   ]
  },
  {
   "cell_type": "markdown",
   "id": "b98d2347",
   "metadata": {},
   "source": [
    "def ANN_pred(xtest, w1, b1, w2, b2, w_out, b_out):\n",
    "    \n",
    "    pred = []\n",
    "    for i in range(0, xtest.shape[0]):\n",
    "        x=xtest[i]\n",
    "        \n",
    "        # Feed Forward\n",
    "        z1 = ReLU(np.dot(w1, x) + b1)  # Hidden layer 1 output\n",
    "        z2 = ReLU(np.dot(w2, z1) + b2)  # Hidden layer 2 output\n",
    "        y = sigmoid(np.dot(w_out, z2) + b_out)  # Output of the output layer\n",
    "    \n",
    "        pred.append(np.heaviside(y-0.5, 1)[0])\n",
    "    \n",
    "    return np.array(pred)\n",
    "    \n",
    "    \n",
    "    "
   ]
  },
  {
   "cell_type": "code",
   "execution_count": 12,
   "id": "b200f3e1",
   "metadata": {},
   "outputs": [],
   "source": [
    "def ANN_pred(xtest, w1, b1, w2, b2, w_out, b_out):\n",
    "    pred = []\n",
    "    for i in range(xtest.shape[0]):\n",
    "        x = xtest[i]\n",
    "        \n",
    "        # Feed Forward\n",
    "        h1 = ReLU(np.dot(x, w1) + b1)  # Hidden layer 1 output\n",
    "        h2 = ReLU(np.dot(h1, w2) + b2)  # Hidden layer 2 output\n",
    "        y = sigmoid(np.dot(h2, w_out) + b_out)  # Output of the output layer\n",
    "        \n",
    "        # Use threshold of 0.5 for binary classification\n",
    "        pred.append(1 if y >= 0.5 else 0)\n",
    "    \n",
    "    return np.array(pred)\n"
   ]
  },
  {
   "cell_type": "code",
   "execution_count": 13,
   "id": "807f2c48",
   "metadata": {},
   "outputs": [],
   "source": [
    "predictions = ANN_pred(xtest, w1, b1, w2, b2, w_out, b_out)"
   ]
  },
  {
   "cell_type": "code",
   "execution_count": 14,
   "id": "321cd206",
   "metadata": {},
   "outputs": [
    {
     "data": {
      "text/plain": [
       "array([0, 0, 0, 1, 1, 0, 1, 1, 0, 1, 0, 1, 0, 1, 1, 1, 0, 0, 0, 0, 0, 1,\n",
       "       0, 0, 1, 1, 0, 1, 1, 1, 0, 1, 0, 0, 0, 0, 0, 0, 0, 0, 0, 0, 0, 0,\n",
       "       1, 0, 0, 1, 0, 0, 0, 0, 1, 0, 0, 0, 0, 1, 0, 0, 0, 1, 1, 0, 1, 0,\n",
       "       1, 0, 1, 1, 1, 0, 0, 0, 0, 1, 0, 0, 0, 0, 0, 0, 1, 0, 0, 1, 1, 1,\n",
       "       1, 0, 0, 0, 0, 1, 1, 0, 1, 0, 0, 0, 0, 0, 0, 0, 1, 1, 1, 1, 0, 1,\n",
       "       0, 1, 0, 1, 0, 1, 1, 1, 0, 1, 0, 0, 0, 0, 0, 0, 0, 0, 0, 0, 1, 0,\n",
       "       0, 1, 0, 0, 0, 1, 0, 0, 0, 1, 0, 1, 1, 1, 0, 1, 1, 0, 0, 1, 1, 0,\n",
       "       1, 0, 1, 0, 1, 1, 0, 0, 1, 1, 0, 0, 0, 0, 0, 0, 0, 1, 0, 0, 1, 0,\n",
       "       1, 0, 0])"
      ]
     },
     "execution_count": 14,
     "metadata": {},
     "output_type": "execute_result"
    }
   ],
   "source": [
    "predictions"
   ]
  },
  {
   "cell_type": "code",
   "execution_count": 15,
   "id": "0dd6b699",
   "metadata": {},
   "outputs": [
    {
     "data": {
      "text/plain": [
       "array([0, 0, 0, 1, 1, 1, 1, 1, 1, 1, 0, 1, 0, 1, 1, 0, 0, 0, 0, 1, 0, 1,\n",
       "       0, 0, 0, 1, 0, 1, 1, 0, 0, 1, 0, 1, 0, 1, 0, 0, 0, 0, 1, 0, 0, 0,\n",
       "       1, 0, 0, 1, 0, 0, 1, 1, 1, 0, 1, 0, 0, 0, 0, 1, 0, 0, 1, 0, 1, 0,\n",
       "       1, 0, 1, 1, 1, 1, 0, 0, 0, 1, 0, 0, 0, 0, 0, 1, 0, 0, 0, 1, 1, 1,\n",
       "       1, 0, 0, 0, 1, 1, 0, 0, 1, 0, 0, 1, 0, 0, 0, 0, 0, 1, 1, 0, 0, 1,\n",
       "       0, 1, 1, 0, 1, 1, 1, 1, 0, 1, 1, 0, 0, 0, 0, 0, 0, 1, 0, 0, 0, 0,\n",
       "       0, 0, 0, 0, 0, 0, 0, 0, 0, 1, 0, 0, 1, 0, 0, 1, 1, 0, 0, 1, 0, 0,\n",
       "       1, 0, 0, 1, 0, 1, 0, 1, 1, 1, 0, 0, 0, 0, 0, 0, 0, 1, 0, 0, 1, 0,\n",
       "       1, 0, 0])"
      ]
     },
     "execution_count": 15,
     "metadata": {},
     "output_type": "execute_result"
    }
   ],
   "source": [
    "ytest"
   ]
  },
  {
   "cell_type": "markdown",
   "id": "de95150a",
   "metadata": {},
   "source": [
    "## Model Evaluation"
   ]
  },
  {
   "cell_type": "code",
   "execution_count": 16,
   "id": "80b68386",
   "metadata": {},
   "outputs": [],
   "source": [
    "from sklearn.metrics import accuracy_score, confusion_matrix\n",
    "\n",
    "cm = confusion_matrix(ytest, predictions)\n",
    "\n",
    "df_cm = pd. DataFrame(cm, index = [dict_live[i] for i in range (0,2)],\n",
    "                      columns = [dict_live[i] for i in range(0,2)])"
   ]
  },
  {
   "cell_type": "code",
   "execution_count": 17,
   "id": "b6433ac1",
   "metadata": {},
   "outputs": [
    {
     "data": {
      "text/plain": [
       "array([[92, 18],\n",
       "       [20, 49]])"
      ]
     },
     "execution_count": 17,
     "metadata": {},
     "output_type": "execute_result"
    }
   ],
   "source": [
    "cm"
   ]
  },
  {
   "cell_type": "code",
   "execution_count": 18,
   "id": "4c980f48",
   "metadata": {},
   "outputs": [
    {
     "data": {
      "text/html": [
       "<div>\n",
       "<style scoped>\n",
       "    .dataframe tbody tr th:only-of-type {\n",
       "        vertical-align: middle;\n",
       "    }\n",
       "\n",
       "    .dataframe tbody tr th {\n",
       "        vertical-align: top;\n",
       "    }\n",
       "\n",
       "    .dataframe thead th {\n",
       "        text-align: right;\n",
       "    }\n",
       "</style>\n",
       "<table border=\"1\" class=\"dataframe\">\n",
       "  <thead>\n",
       "    <tr style=\"text-align: right;\">\n",
       "      <th></th>\n",
       "      <th>Died</th>\n",
       "      <th>Survived</th>\n",
       "    </tr>\n",
       "  </thead>\n",
       "  <tbody>\n",
       "    <tr>\n",
       "      <th>Died</th>\n",
       "      <td>92</td>\n",
       "      <td>18</td>\n",
       "    </tr>\n",
       "    <tr>\n",
       "      <th>Survived</th>\n",
       "      <td>20</td>\n",
       "      <td>49</td>\n",
       "    </tr>\n",
       "  </tbody>\n",
       "</table>\n",
       "</div>"
      ],
      "text/plain": [
       "          Died  Survived\n",
       "Died        92        18\n",
       "Survived    20        49"
      ]
     },
     "execution_count": 18,
     "metadata": {},
     "output_type": "execute_result"
    }
   ],
   "source": [
    "df_cm"
   ]
  },
  {
   "cell_type": "code",
   "execution_count": 19,
   "id": "4fd38947",
   "metadata": {},
   "outputs": [
    {
     "data": {
      "image/png": "[encoded data removed]",
      "text/plain": [
       "<Figure size 700x700 with 2 Axes>"
      ]
     },
     "metadata": {},
     "output_type": "display_data"
    }
   ],
   "source": [
    "plt. figure(figsize = (7,7))\n",
    "sns.heatmap(df_cm, annot=True,\n",
    "cmap=plt. cm.Blues, fmt='g')\n",
    "plt. xlabel(\"Predicted Class\")\n",
    "plt. ylabel(\"True Class\", fontsize=18)\n",
    "plt. show()"
   ]
  },
  {
   "cell_type": "code",
   "execution_count": 20,
   "id": "f665b5b7",
   "metadata": {},
   "outputs": [
    {
     "data": {
      "text/plain": [
       "0.7877094972067039"
      ]
     },
     "execution_count": 20,
     "metadata": {},
     "output_type": "execute_result"
    }
   ],
   "source": [
    "accuracy_score(ytest, predictions)"
   ]
  },
  {
   "cell_type": "code",
   "execution_count": null,
   "id": "c6b2beef",
   "metadata": {},
   "outputs": [],
   "source": []
  }
 ],
 "metadata": {
  "kernelspec": {
   "display_name": "Python 3 (ipykernel)",
   "language": "python",
   "name": "python3"
  },
  "language_info": {
   "codemirror_mode": {
    "name": "ipython",
    "version": 3
   },
   "file_extension": ".py",
   "mimetype": "text/x-python",
   "name": "python",
   "nbconvert_exporter": "python",
   "pygments_lexer": "ipython3",
   "version": "3.12.4"
  }
 },
 "nbformat": 4,
 "nbformat_minor": 5
}
